{
  "cells": [
    {
      "cell_type": "markdown",
      "metadata": {
        "id": "jWX2PCuwjI7J"
      },
      "source": [
        "\n",
        "<p><img alt=\"University logo\" height=\"140px\" src=\"https://www.alkemy.org/logo512.png\" align=\"center\" hspace=\"10px\" vspace=\"0px\"></p>\n",
        "\n",
        "\n",
        "#                           **ALKEMY**\n",
        "\n",
        "\n",
        "---\n",
        "\n",
        "\n",
        "\n",
        "\n",
        "\n"
      ]
    },
    {
      "cell_type": "markdown",
      "metadata": {
        "id": "VZSV2ejaAulh"
      },
      "source": [
        "\n",
        "<p><img alt=\"University logo\" height=\"140px\" src=\"https://ruc.unlar.edu.ar/universidad/images/unju.jpg\" align=\"left\" hspace=\"10px\" vspace=\"0px\"></p>\n",
        "\n",
        "\n",
        "<p><img alt=\"University logo\" height=\"140px\" src=\"https://www.universidades.com.ar/logos/original/logo-universidad-de-moron.png\" align=\"left\" hspace=\"10px\" vspace=\"0px\"></p>\n",
        "\n",
        "\n",
        "# **Analisis universidades Jujuy y Moron**\n",
        "\n",
        "\n",
        "El presente Notebook es un analisis resultante del challenge alkemy para la aceleración Noviembre \n",
        "\n",
        "## **Alkemy-G1**\n",
        "## **Universidades I**\n",
        "##### *Wilmar Murillo Carmona*\n",
        "\n",
        "## **Contenido**\n",
        "   \n",
        "- <a href=\"#int\"> Introducción a tarea- creacción de notebook</a><br>\n",
        "- <a href=\"#imp\">Importación de librerias para el analisis</a><br>\n",
        "- <a href=\"#impd\"> Importación de datos </a><br>\n",
        "- <a href=\"#graf\">Graficos de variables</a><br>\n",
        "   - <a href=\"#carr\"> Carrera</a><br>\n",
        "   - <a href=\"#ed\"> Edad</a><br>\n",
        "   - <a href=\"#gen\"> Género</a><br>\n",
        "   - <a href=\"#loc\"> Localidad</a><br>\n",
        "- <a href=\"#comp\"> Comparativo Inscripcciones universidades</a><br>\n",
        " \n",
        "- <a href=\"#corr\"> Correlaciones</a><br>\n",
        "    - <a href=\"#carr1\"> Carrera</a><br>\n",
        "    - <a href=\"#Ed2\"> Edad</a><br>\n",
        "    - <a href=\"#gen1\"> Género</a><br>\n",
        "    - <a href=\"#Loc1\"> Localidad</a><br>\n",
        "- <a href=\"#con\"> Conclusiones</a><br>\n",
        "   "
      ]
    },
    {
      "cell_type": "markdown",
      "metadata": {
        "id": "5ZZDpNjzBnTo"
      },
      "source": [
        "<p><a name=\"int\"></a></p>\n",
        "\n",
        "# **Introducción a tarea creacción de notebook**\n",
        "\n",
        "\n",
        "##  **Objetivo**:\n",
        " Realizar un notebook que contenga un analisis de las variables seleccionadas en el proyecto despues de haber sido procesada la información de las dos universidaddes correspondiente \n",
        "\n",
        "\n",
        " \n",
        "\n",
        "##  **Descripcción**:\n",
        "1. La notebook debe analizar cada universidad del grupo\n",
        "2. Trabajar creando gráficos que expliquen las siguientes dimensiones:\n",
        " \n",
        "  * **Carrera**\n",
        "  * **Edad**\n",
        "  * **Género**\n",
        "  * **Localidad**\n",
        "\n",
        "3. Realizar un comparativo de inscripciones entre ambas universidades.\n",
        "4. Analizar correlaciones de variables, entre:\n",
        "  * **Carrera**\n",
        "  * **Edad**\n",
        "  * **Género**\n",
        "  * **Localidad**\n",
        "5. Presentar una conclusión final de lo analizado.\n",
        "\n"
      ]
    },
    {
      "cell_type": "markdown",
      "metadata": {
        "id": "95rK02KjinIZ"
      },
      "source": [
        "<p><a name=\"graf\"></a></p>\n",
        "\n",
        "# **Importación de librerias para el analisis**"
      ]
    },
    {
      "cell_type": "code",
      "execution_count": null,
      "metadata": {
        "id": "l8sQE6GA3xvA"
      },
      "outputs": [],
      "source": [
        "# Libreria manipulacón de datos \n",
        "import pandas as pd \n",
        "\n",
        "#Libreeria para manejo de matrices \n",
        "import numpy as np \n",
        "\n",
        "#Libreria para visualización de datos \n",
        "import matplotlib.pyplot as plt\n",
        "%matplotlib inline \n",
        "\n",
        "#Libreria visualización \n",
        "import seaborn as sns \n",
        "\n"
      ]
    },
    {
      "cell_type": "markdown",
      "metadata": {
        "id": "LAaTXHX35zZB"
      },
      "source": [
        "<p><a name=\"impd\"></a></p>\n",
        "\n",
        "# **Importación de datos**"
      ]
    },
    {
      "cell_type": "code",
      "execution_count": null,
      "metadata": {
        "id": "zWcHjlNU6Ox0"
      },
      "outputs": [],
      "source": [
        "#Importación desde  google drive \n",
        "from google.colab import drive "
      ]
    },
    {
      "cell_type": "code",
      "execution_count": null,
      "metadata": {
        "colab": {
          "base_uri": "https://localhost:8080/"
        },
        "id": "szvNznPrnUaa",
        "outputId": "43a6c0d0-cff7-46ce-c230-ec16d3f161dc"
      },
      "outputs": [
        {
          "name": "stdout",
          "output_type": "stream",
          "text": [
            "Mounted at /content/drive\n"
          ]
        }
      ],
      "source": [
        "from google.colab import drive\n",
        "drive.mount('/content/drive')"
      ]
    },
    {
      "cell_type": "code",
      "execution_count": 119,
      "metadata": {
        "id": "pC7A20u156mC"
      },
      "outputs": [],
      "source": [
        "\n",
        "# Url - rutas de datos \n",
        "url1 =\"/content/drive/MyDrive/project alkemy /GIUJujuy_process.csv\"\n",
        "url2 =\"/content/drive/MyDrive/project alkemy /GIUMoron_process.csv\"\n",
        "\n",
        "# Leer archivos csv \n",
        "df_juj = pd.read_csv(url1)\n",
        "df_mor =  pd.read_csv(url2)\n"
      ]
    },
    {
      "cell_type": "markdown",
      "metadata": {
        "id": "zIqFutxbanqC"
      },
      "source": [
        "##Visualización dataframes \n",
        "\n",
        "*** Tabla universidad de Jujuy***"
      ]
    },
    {
      "cell_type": "code",
      "execution_count": null,
      "metadata": {
        "id": "Lg51UW0gZ1bd"
      },
      "outputs": [],
      "source": [
        "df_juj= df_juj.drop ([\"Unnamed: 0\", \"birth_day\" ], axis=1)\n",
        "df_juj[\"gender\"]=df_juj[\"gender\"].replace({\"female\":0, \"male\":1})\n",
        "df_juj\n",
        "\n"
      ]
    },
    {
      "cell_type": "markdown",
      "metadata": {
        "id": "a_93hbbba3fh"
      },
      "source": [
        "\n",
        " ***Tabla universidad de Moron***"
      ]
    },
    {
      "cell_type": "code",
      "execution_count": null,
      "metadata": {
        "id": "zG6-73MyaS5E"
      },
      "outputs": [],
      "source": [
        "df_mor= df_mor.drop ([\"Unnamed: 0\", \"birth_day\" ], axis=1)\n",
        "df_mor[\"gender\"]=df_mor[\"gender\"].replace({\"female\":0, \"male\":1})\n",
        "df_mor"
      ]
    },
    {
      "cell_type": "markdown",
      "metadata": {
        "id": "KSIBv3h9aKjg"
      },
      "source": [
        "<p><a name=\"graf\"></a></p>\n",
        "\n",
        "# **Graficos de variables**\n",
        "\n",
        "Se realizan los graficos según el tipo de variable "
      ]
    },
    {
      "cell_type": "markdown",
      "metadata": {
        "id": "hSgkNc5Yakqa"
      },
      "source": [
        "<p><a name=\"carr\"></a></p>\n",
        "\n",
        "### **Carrera**\n",
        "\n",
        "***Universidad de Jujuy (career)***\n",
        "\n",
        "las carreras mas apetecidas para esta universidad son: \n",
        "Ciencias ambientales, ciencias politicas y psicologia"
      ]
    },
    {
      "cell_type": "code",
      "execution_count": null,
      "metadata": {
        "id": "KgA3rjKSai9a"
      },
      "outputs": [],
      "source": [
        "df = df_juj.career.value_counts()\n",
        "df.plot.bar()"
      ]
    },
    {
      "cell_type": "markdown",
      "metadata": {
        "id": "rL9NnzFu5lbB"
      },
      "source": [
        "***Universidad de Moron (career)***\n",
        "\n",
        "las carreras mas demandas para esta universidad son :\n",
        "terapia ocupacional, ciencias ambientales, diseño insutrial "
      ]
    },
    {
      "cell_type": "code",
      "execution_count": null,
      "metadata": {
        "id": "h8Ela0Yy5pAc"
      },
      "outputs": [],
      "source": [
        "df1 = df_mor.career.value_counts()\n",
        "df1.plot.bar()"
      ]
    },
    {
      "cell_type": "markdown",
      "metadata": {
        "id": "a2FMxcJIaoG6"
      },
      "source": [
        "<p><a name=\"ed\"></a></p>\n",
        "\n",
        "### **Edad**\n",
        "\n",
        "***universidad jujuy(edad)***"
      ]
    },
    {
      "cell_type": "code",
      "execution_count": null,
      "metadata": {
        "id": "cxv3Q0ltwbWs"
      },
      "outputs": [],
      "source": [
        "data_frame = df_juj.loc[(df_juj.age >= 18) & (df_juj.age <=30)] \n",
        "df_1 =data_frame.age.value_counts()\n",
        "df_1.plot.pie(autopct=\"%1.1f%%\")"
      ]
    },
    {
      "cell_type": "code",
      "execution_count": null,
      "metadata": {
        "id": "ZENOXD0Ezrux"
      },
      "outputs": [],
      "source": [
        "data_frame1 = df_juj.loc[(df_juj.age >= 31) & (df_juj.age <=41)] \n",
        "df2 =data_frame1.age.value_counts()\n",
        "df2.plot.pie(autopct=\"%1.1f%%\")"
      ]
    },
    {
      "cell_type": "code",
      "execution_count": null,
      "metadata": {
        "id": "oB_QgGs10OwY"
      },
      "outputs": [],
      "source": [
        "data_frame3 = df_juj.loc[(df_juj.age >= 41) & (df_juj.age <=51)] \n",
        "df3 =data_frame3.age.value_counts()\n",
        "df3.plot.pie(autopct=\"%1.1f%%\")"
      ]
    },
    {
      "cell_type": "markdown",
      "metadata": {
        "id": "TH3QvKsejF7S"
      },
      "source": [
        "Conclusion Edad : Se puede evidenciar que las edades oscialan entre los 22 y 38 años "
      ]
    },
    {
      "cell_type": "markdown",
      "metadata": {
        "id": "9uVGjgso0vsn"
      },
      "source": [
        "***Universidad Moron (edad)***"
      ]
    },
    {
      "cell_type": "code",
      "execution_count": 157,
      "metadata": {
        "colab": {
          "base_uri": "https://localhost:8080/",
          "height": 265
        },
        "id": "OztWmCezapab",
        "outputId": "36292e5d-d33a-490d-d821-89bc0297d40e"
      },
      "outputs": [
        {
          "data": {
            "text/plain": [
              "<matplotlib.axes._subplots.AxesSubplot at 0x7f6f5f49f410>"
            ]
          },
          "execution_count": 157,
          "metadata": {},
          "output_type": "execute_result"
        },
        {
          "data": {
            "image/png": "[encoded data removed]",
            "text/plain": [
              "<Figure size 432x288 with 1 Axes>"
            ]
          },
          "metadata": {},
          "output_type": "display_data"
        }
      ],
      "source": [
        "data_frame4 = df_mor.loc[(df_mor.age >= 18) & (df_mor.age <=30)] \n",
        "df4 =data_frame4.age.value_counts()\n",
        "df4.plot.pie(autopct=\"%1.1f%%\")"
      ]
    },
    {
      "cell_type": "code",
      "execution_count": 155,
      "metadata": {
        "colab": {
          "base_uri": "https://localhost:8080/",
          "height": 265
        },
        "id": "mFuYG5TU01ue",
        "outputId": "8e310bbd-32f7-434f-8384-3501b961a55e"
      },
      "outputs": [
        {
          "data": {
            "text/plain": [
              "<matplotlib.axes._subplots.AxesSubplot at 0x7f6f5f01b7d0>"
            ]
          },
          "execution_count": 155,
          "metadata": {},
          "output_type": "execute_result"
        },
        {
          "data": {
            "image/png": "[encoded data removed]",
            "text/plain": [
              "<Figure size 432x288 with 1 Axes>"
            ]
          },
          "metadata": {},
          "output_type": "display_data"
        }
      ],
      "source": [
        "data_frame5 = df_mor.loc[(df_mor.age >= 31) & (df_mor.age <=41)] \n",
        "df5 =data_frame5.age.value_counts()\n",
        "df5.plot.pie(autopct=\"%1.1f%%\")"
      ]
    },
    {
      "cell_type": "code",
      "execution_count": 156,
      "metadata": {
        "colab": {
          "base_uri": "https://localhost:8080/",
          "height": 265
        },
        "id": "lJ10uhB605YG",
        "outputId": "51026e6a-d44a-4156-b386-dff2d37fc847"
      },
      "outputs": [
        {
          "data": {
            "text/plain": [
              "<matplotlib.axes._subplots.AxesSubplot at 0x7f6f5efa0a10>"
            ]
          },
          "execution_count": 156,
          "metadata": {},
          "output_type": "execute_result"
        },
        {
          "data": {
            "image/png": "[encoded data removed]",
            "text/plain": [
              "<Figure size 432x288 with 1 Axes>"
            ]
          },
          "metadata": {},
          "output_type": "display_data"
        }
      ],
      "source": [
        "data_frame6 = df_mor.loc[(df_mor.age >= 41) & (df_mor.age <=51)] \n",
        "df6 =data_frame6.age.value_counts()\n",
        "df6.plot.pie(autopct=\"%1.1f%%\")"
      ]
    },
    {
      "cell_type": "markdown",
      "metadata": {
        "id": "NdHDMQQlvfAr"
      },
      "source": [
        "Conclusion Edad : Se puede evidenciar que las edades oscialan entre los 19 y 40 años en la universidd de Moron "
      ]
    },
    {
      "cell_type": "markdown",
      "metadata": {
        "id": "XHFktA-XarWR"
      },
      "source": [
        "<p><a name=\"gen\"></a></p>\n",
        "\n",
        "### **Género**"
      ]
    },
    {
      "cell_type": "markdown",
      "metadata": {
        "id": "aZXQTu963xoq"
      },
      "source": [
        "***Género universidad jujuy***"
      ]
    },
    {
      "cell_type": "code",
      "execution_count": null,
      "metadata": {
        "id": "rA6wWGEIlDNv"
      },
      "outputs": [],
      "source": [
        "dynamic_table = pd.pivot_table(df_juj,index=[\"career\"], values=[\"gender\"] ,aggfunc=\"sum\")\n",
        "dynamic_table"
      ]
    },
    {
      "cell_type": "code",
      "execution_count": null,
      "metadata": {
        "id": "qgyyc3nFar9T"
      },
      "outputs": [],
      "source": [
        "df7 =df_juj.gender.value_counts()\n",
        "df7.plot.pie(autopct=\"%1.1f%%\")"
      ]
    },
    {
      "cell_type": "markdown",
      "metadata": {
        "id": "36MiToIR6m0z"
      },
      "source": [
        "***Género universidad Moron*** "
      ]
    },
    {
      "cell_type": "code",
      "execution_count": null,
      "metadata": {
        "id": "ulV0T0Fq8wwO"
      },
      "outputs": [],
      "source": [
        "dynamic_table1 = pd.pivot_table(df_mor,index=[\"career\"], values=[\"gender\"] ,aggfunc=\"sum\")\n",
        "dynamic_table1"
      ]
    },
    {
      "cell_type": "code",
      "execution_count": null,
      "metadata": {
        "id": "wktIxJnJjKtu"
      },
      "outputs": [],
      "source": [
        "df8 =df_mor.gender.value_counts()\n",
        "df8.plot.pie(autopct=\"%1.1f%%\")"
      ]
    },
    {
      "cell_type": "markdown",
      "metadata": {
        "id": "itaUA7Rfvt0j"
      },
      "source": [
        "Género: Para ambas universidades se evindencia que el numero de mujeres y hombres es casi igual porcentaje"
      ]
    },
    {
      "cell_type": "markdown",
      "metadata": {
        "id": "RkVCkOxUav8x"
      },
      "source": [
        "<p><a name=\"loc\"></a></p>\n",
        "\n",
        "### **Localidad**\n",
        "***Localidad universidad Jujuy*** "
      ]
    },
    {
      "cell_type": "code",
      "execution_count": null,
      "metadata": {
        "id": "HIC16bYGrO6t"
      },
      "outputs": [],
      "source": [
        "df_2=df_juj.location.value_counts()\n",
        "df_3 =df_2.head(10)\n",
        "df_3.plot.bar(subplots=True, figsize=(8, 4))"
      ]
    },
    {
      "cell_type": "code",
      "execution_count": null,
      "metadata": {
        "id": "DF3jDRURI27_"
      },
      "outputs": [],
      "source": [
        "df_4=df_juj.location.value_counts()\n",
        "df_5 =df_4.tail(10)\n",
        "df_5.plot.bar(subplots=True, figsize=(8, 4) )"
      ]
    },
    {
      "cell_type": "markdown",
      "metadata": {
        "id": "0jdqXVfVMn9T"
      },
      "source": [
        "***Localidad universidad Moron*** "
      ]
    },
    {
      "cell_type": "code",
      "execution_count": null,
      "metadata": {
        "id": "K2QCQIzUnBAd"
      },
      "outputs": [],
      "source": [
        "df_mor.location.value_counts()"
      ]
    },
    {
      "cell_type": "code",
      "execution_count": null,
      "metadata": {
        "id": "yauFvkq-Mr52"
      },
      "outputs": [],
      "source": [
        "df_5=df_mor.location.value_counts()\n",
        "df_6 =df_5.head(10)\n",
        "df_6.plot.bar()"
      ]
    },
    {
      "cell_type": "code",
      "execution_count": null,
      "metadata": {
        "id": "k_ypPsWeMrp5"
      },
      "outputs": [],
      "source": [
        "df_4=df_mor.location.value_counts()\n",
        "df_5 =df_4.tail(10)\n",
        "df_5.plot.bar(subplots=True, figsize=(8, 4) )"
      ]
    },
    {
      "cell_type": "markdown",
      "metadata": {
        "id": "AIgUceqWwHsj"
      },
      "source": [
        "Conclusión Localidad: Se realizó un analisis de ambas universidades para verificar cuales localidades son las que mas se inscriben y las que menos lo hacen "
      ]
    },
    {
      "cell_type": "markdown",
      "metadata": {
        "id": "Y6mNyOWDa3hZ"
      },
      "source": [
        "<p><a name=\"comp\"></a></p>\n",
        "\n",
        "# **Comparativo**"
      ]
    },
    {
      "cell_type": "code",
      "execution_count": null,
      "metadata": {
        "id": "WJnR9c4ZYau3"
      },
      "outputs": [],
      "source": [
        "\n",
        "data_1 = df_juj[\"inscription_date\"]\n",
        "data_2 =df_mor[\"inscription_date\"]\n",
        "\n",
        "pd.merge(data_1, data_2, how = \"inner\", left_index = True ,  right_index=True )"
      ]
    },
    {
      "cell_type": "code",
      "execution_count": null,
      "metadata": {
        "id": "cSzxsl77aOhH"
      },
      "outputs": [],
      "source": [
        "df_juj[\"inscription_date\"].mode()"
      ]
    },
    {
      "cell_type": "code",
      "execution_count": null,
      "metadata": {
        "id": "RmDFYTjPYPeS"
      },
      "outputs": [],
      "source": [
        "df_mor[\"inscription_date\"].mode()"
      ]
    },
    {
      "cell_type": "code",
      "execution_count": null,
      "metadata": {
        "id": "nt1s0x_Gosen"
      },
      "outputs": [],
      "source": [
        "df_mor[\"inscription_date\"].value_counts()"
      ]
    },
    {
      "cell_type": "code",
      "execution_count": null,
      "metadata": {
        "id": "9Wx8IGjxo1Cg"
      },
      "outputs": [],
      "source": [
        "data_j= df_juj[\"inscription_date\"].value_counts()\n",
        "data_j.head(10)"
      ]
    },
    {
      "cell_type": "code",
      "execution_count": null,
      "metadata": {
        "id": "oK4_owKLpJMr"
      },
      "outputs": [],
      "source": [
        "data_m= df_mor[\"inscription_date\"].value_counts()\n",
        "data_m.head(10)"
      ]
    },
    {
      "cell_type": "markdown",
      "metadata": {
        "id": "Hr2glMvlwfVz"
      },
      "source": [
        "Conclusión Comparativos: Se puede evidenciar que en la universidad de jujuy obtuve mayor numero de inscripciones en el año 2019 y Moron en 2020 "
      ]
    },
    {
      "cell_type": "markdown",
      "metadata": {
        "id": "Wls0Rpjwa61D"
      },
      "source": [
        "<p><a name=\"corr\"></a></p>\n",
        "\n",
        "# **Correlaciones**"
      ]
    },
    {
      "cell_type": "code",
      "execution_count": 141,
      "metadata": {
        "colab": {
          "base_uri": "https://localhost:8080/",
          "height": 143
        },
        "id": "JTd-FIJrqChS",
        "outputId": "ba52d3c9-3549-4ec2-8dc3-bd7a0da35c8f"
      },
      "outputs": [
        {
          "data": {
            "text/html": [
              "\n",
              "  <div id=\"df-41cfc7a6-6402-450d-884c-2d3be73dc923\">\n",
              "    <div class=\"colab-df-container\">\n",
              "      <div>\n",
              "<style scoped>\n",
              "    .dataframe tbody tr th:only-of-type {\n",
              "        vertical-align: middle;\n",
              "    }\n",
              "\n",
              "    .dataframe tbody tr th {\n",
              "        vertical-align: top;\n",
              "    }\n",
              "\n",
              "    .dataframe thead th {\n",
              "        text-align: right;\n",
              "    }\n",
              "</style>\n",
              "<table border=\"1\" class=\"dataframe\">\n",
              "  <thead>\n",
              "    <tr style=\"text-align: right;\">\n",
              "      <th></th>\n",
              "      <th>age</th>\n",
              "      <th>gender</th>\n",
              "      <th>postal_code</th>\n",
              "    </tr>\n",
              "  </thead>\n",
              "  <tbody>\n",
              "    <tr>\n",
              "      <th>age</th>\n",
              "      <td>1.000000</td>\n",
              "      <td>0.022202</td>\n",
              "      <td>0.020944</td>\n",
              "    </tr>\n",
              "    <tr>\n",
              "      <th>gender</th>\n",
              "      <td>0.022202</td>\n",
              "      <td>1.000000</td>\n",
              "      <td>-0.002770</td>\n",
              "    </tr>\n",
              "    <tr>\n",
              "      <th>postal_code</th>\n",
              "      <td>0.020944</td>\n",
              "      <td>-0.002770</td>\n",
              "      <td>1.000000</td>\n",
              "    </tr>\n",
              "  </tbody>\n",
              "</table>\n",
              "</div>\n",
              "      <button class=\"colab-df-convert\" onclick=\"convertToInteractive('df-41cfc7a6-6402-450d-884c-2d3be73dc923')\"\n",
              "              title=\"Convert this dataframe to an interactive table.\"\n",
              "              style=\"display:none;\">\n",
              "        \n",
              "  <svg xmlns=\"http://www.w3.org/2000/svg\" height=\"24px\"viewBox=\"0 0 24 24\"\n",
              "       width=\"24px\">\n",
              "    <path d=\"M0 0h24v24H0V0z\" fill=\"none\"/>\n",
              "    <path d=\"M18.56 5.44l.94 2.06.94-2.06 2.06-.94-2.06-.94-.94-2.06-.94 2.06-2.06.94zm-11 1L8.5 8.5l.94-2.06 2.06-.94-2.06-.94L8.5 2.5l-.94 2.06-2.06.94zm10 10l.94 2.06.94-2.06 2.06-.94-2.06-.94-.94-2.06-.94 2.06-2.06.94z\"/><path d=\"M17.41 7.96l-1.37-1.37c-.4-.4-.92-.59-1.43-.59-.52 0-1.04.2-1.43.59L10.3 9.45l-7.72 7.72c-.78.78-.78 2.05 0 2.83L4 21.41c.39.39.9.59 1.41.59.51 0 1.02-.2 1.41-.59l7.78-7.78 2.81-2.81c.8-.78.8-2.07 0-2.86zM5.41 20L4 18.59l7.72-7.72 1.47 1.35L5.41 20z\"/>\n",
              "  </svg>\n",
              "      </button>\n",
              "      \n",
              "  <style>\n",
              "    .colab-df-container {\n",
              "      display:flex;\n",
              "      flex-wrap:wrap;\n",
              "      gap: 12px;\n",
              "    }\n",
              "\n",
              "    .colab-df-convert {\n",
              "      background-color: #E8F0FE;\n",
              "      border: none;\n",
              "      border-radius: 50%;\n",
              "      cursor: pointer;\n",
              "      display: none;\n",
              "      fill: #1967D2;\n",
              "      height: 32px;\n",
              "      padding: 0 0 0 0;\n",
              "      width: 32px;\n",
              "    }\n",
              "\n",
              "    .colab-df-convert:hover {\n",
              "      background-color: #E2EBFA;\n",
              "      box-shadow: 0px 1px 2px rgba(60, 64, 67, 0.3), 0px 1px 3px 1px rgba(60, 64, 67, 0.15);\n",
              "      fill: #174EA6;\n",
              "    }\n",
              "\n",
              "    [theme=dark] .colab-df-convert {\n",
              "      background-color: #3B4455;\n",
              "      fill: #D2E3FC;\n",
              "    }\n",
              "\n",
              "    [theme=dark] .colab-df-convert:hover {\n",
              "      background-color: #434B5C;\n",
              "      box-shadow: 0px 1px 3px 1px rgba(0, 0, 0, 0.15);\n",
              "      filter: drop-shadow(0px 1px 2px rgba(0, 0, 0, 0.3));\n",
              "      fill: #FFFFFF;\n",
              "    }\n",
              "  </style>\n",
              "\n",
              "      <script>\n",
              "        const buttonEl =\n",
              "          document.querySelector('#df-41cfc7a6-6402-450d-884c-2d3be73dc923 button.colab-df-convert');\n",
              "        buttonEl.style.display =\n",
              "          google.colab.kernel.accessAllowed ? 'block' : 'none';\n",
              "\n",
              "        async function convertToInteractive(key) {\n",
              "          const element = document.querySelector('#df-41cfc7a6-6402-450d-884c-2d3be73dc923');\n",
              "          const dataTable =\n",
              "            await google.colab.kernel.invokeFunction('convertToInteractive',\n",
              "                                                     [key], {});\n",
              "          if (!dataTable) return;\n",
              "\n",
              "          const docLinkHtml = 'Like what you see? Visit the ' +\n",
              "            '<a target=\"_blank\" href=https://colab.research.google.com/notebooks/data_table.ipynb>data table notebook</a>'\n",
              "            + ' to learn more about interactive tables.';\n",
              "          element.innerHTML = '';\n",
              "          dataTable['output_type'] = 'display_data';\n",
              "          await google.colab.output.renderOutput(dataTable, element);\n",
              "          const docLink = document.createElement('div');\n",
              "          docLink.innerHTML = docLinkHtml;\n",
              "          element.appendChild(docLink);\n",
              "        }\n",
              "      </script>\n",
              "    </div>\n",
              "  </div>\n",
              "  "
            ],
            "text/plain": [
              "                  age    gender  postal_code\n",
              "age          1.000000  0.022202     0.020944\n",
              "gender       0.022202  1.000000    -0.002770\n",
              "postal_code  0.020944 -0.002770     1.000000"
            ]
          },
          "execution_count": 141,
          "metadata": {},
          "output_type": "execute_result"
        }
      ],
      "source": [
        "corr_matrix = df_juj.corr(method='pearson')\n",
        "corr_matrix"
      ]
    },
    {
      "cell_type": "code",
      "execution_count": 148,
      "metadata": {
        "colab": {
          "base_uri": "https://localhost:8080/",
          "height": 143
        },
        "id": "luga1E4ssUZY",
        "outputId": "de5905cc-f986-45ee-d1f0-7c52bf3fcc29"
      },
      "outputs": [
        {
          "data": {
            "text/html": [
              "\n",
              "  <div id=\"df-4fb18dba-f012-4636-ae86-d1e0a87712f5\">\n",
              "    <div class=\"colab-df-container\">\n",
              "      <div>\n",
              "<style scoped>\n",
              "    .dataframe tbody tr th:only-of-type {\n",
              "        vertical-align: middle;\n",
              "    }\n",
              "\n",
              "    .dataframe tbody tr th {\n",
              "        vertical-align: top;\n",
              "    }\n",
              "\n",
              "    .dataframe thead th {\n",
              "        text-align: right;\n",
              "    }\n",
              "</style>\n",
              "<table border=\"1\" class=\"dataframe\">\n",
              "  <thead>\n",
              "    <tr style=\"text-align: right;\">\n",
              "      <th></th>\n",
              "      <th>age</th>\n",
              "      <th>gender</th>\n",
              "      <th>postal_code</th>\n",
              "    </tr>\n",
              "  </thead>\n",
              "  <tbody>\n",
              "    <tr>\n",
              "      <th>age</th>\n",
              "      <td>1.000000</td>\n",
              "      <td>0.004414</td>\n",
              "      <td>0.026144</td>\n",
              "    </tr>\n",
              "    <tr>\n",
              "      <th>gender</th>\n",
              "      <td>0.004414</td>\n",
              "      <td>1.000000</td>\n",
              "      <td>0.049840</td>\n",
              "    </tr>\n",
              "    <tr>\n",
              "      <th>postal_code</th>\n",
              "      <td>0.026144</td>\n",
              "      <td>0.049840</td>\n",
              "      <td>1.000000</td>\n",
              "    </tr>\n",
              "  </tbody>\n",
              "</table>\n",
              "</div>\n",
              "      <button class=\"colab-df-convert\" onclick=\"convertToInteractive('df-4fb18dba-f012-4636-ae86-d1e0a87712f5')\"\n",
              "              title=\"Convert this dataframe to an interactive table.\"\n",
              "              style=\"display:none;\">\n",
              "        \n",
              "  <svg xmlns=\"http://www.w3.org/2000/svg\" height=\"24px\"viewBox=\"0 0 24 24\"\n",
              "       width=\"24px\">\n",
              "    <path d=\"M0 0h24v24H0V0z\" fill=\"none\"/>\n",
              "    <path d=\"M18.56 5.44l.94 2.06.94-2.06 2.06-.94-2.06-.94-.94-2.06-.94 2.06-2.06.94zm-11 1L8.5 8.5l.94-2.06 2.06-.94-2.06-.94L8.5 2.5l-.94 2.06-2.06.94zm10 10l.94 2.06.94-2.06 2.06-.94-2.06-.94-.94-2.06-.94 2.06-2.06.94z\"/><path d=\"M17.41 7.96l-1.37-1.37c-.4-.4-.92-.59-1.43-.59-.52 0-1.04.2-1.43.59L10.3 9.45l-7.72 7.72c-.78.78-.78 2.05 0 2.83L4 21.41c.39.39.9.59 1.41.59.51 0 1.02-.2 1.41-.59l7.78-7.78 2.81-2.81c.8-.78.8-2.07 0-2.86zM5.41 20L4 18.59l7.72-7.72 1.47 1.35L5.41 20z\"/>\n",
              "  </svg>\n",
              "      </button>\n",
              "      \n",
              "  <style>\n",
              "    .colab-df-container {\n",
              "      display:flex;\n",
              "      flex-wrap:wrap;\n",
              "      gap: 12px;\n",
              "    }\n",
              "\n",
              "    .colab-df-convert {\n",
              "      background-color: #E8F0FE;\n",
              "      border: none;\n",
              "      border-radius: 50%;\n",
              "      cursor: pointer;\n",
              "      display: none;\n",
              "      fill: #1967D2;\n",
              "      height: 32px;\n",
              "      padding: 0 0 0 0;\n",
              "      width: 32px;\n",
              "    }\n",
              "\n",
              "    .colab-df-convert:hover {\n",
              "      background-color: #E2EBFA;\n",
              "      box-shadow: 0px 1px 2px rgba(60, 64, 67, 0.3), 0px 1px 3px 1px rgba(60, 64, 67, 0.15);\n",
              "      fill: #174EA6;\n",
              "    }\n",
              "\n",
              "    [theme=dark] .colab-df-convert {\n",
              "      background-color: #3B4455;\n",
              "      fill: #D2E3FC;\n",
              "    }\n",
              "\n",
              "    [theme=dark] .colab-df-convert:hover {\n",
              "      background-color: #434B5C;\n",
              "      box-shadow: 0px 1px 3px 1px rgba(0, 0, 0, 0.15);\n",
              "      filter: drop-shadow(0px 1px 2px rgba(0, 0, 0, 0.3));\n",
              "      fill: #FFFFFF;\n",
              "    }\n",
              "  </style>\n",
              "\n",
              "      <script>\n",
              "        const buttonEl =\n",
              "          document.querySelector('#df-4fb18dba-f012-4636-ae86-d1e0a87712f5 button.colab-df-convert');\n",
              "        buttonEl.style.display =\n",
              "          google.colab.kernel.accessAllowed ? 'block' : 'none';\n",
              "\n",
              "        async function convertToInteractive(key) {\n",
              "          const element = document.querySelector('#df-4fb18dba-f012-4636-ae86-d1e0a87712f5');\n",
              "          const dataTable =\n",
              "            await google.colab.kernel.invokeFunction('convertToInteractive',\n",
              "                                                     [key], {});\n",
              "          if (!dataTable) return;\n",
              "\n",
              "          const docLinkHtml = 'Like what you see? Visit the ' +\n",
              "            '<a target=\"_blank\" href=https://colab.research.google.com/notebooks/data_table.ipynb>data table notebook</a>'\n",
              "            + ' to learn more about interactive tables.';\n",
              "          element.innerHTML = '';\n",
              "          dataTable['output_type'] = 'display_data';\n",
              "          await google.colab.output.renderOutput(dataTable, element);\n",
              "          const docLink = document.createElement('div');\n",
              "          docLink.innerHTML = docLinkHtml;\n",
              "          element.appendChild(docLink);\n",
              "        }\n",
              "      </script>\n",
              "    </div>\n",
              "  </div>\n",
              "  "
            ],
            "text/plain": [
              "                  age    gender  postal_code\n",
              "age          1.000000  0.004414     0.026144\n",
              "gender       0.004414  1.000000     0.049840\n",
              "postal_code  0.026144  0.049840     1.000000"
            ]
          },
          "execution_count": 148,
          "metadata": {},
          "output_type": "execute_result"
        }
      ],
      "source": [
        "corr_matrix1 = df_mor.corr(method='pearson')\n",
        "corr_matrix1"
      ]
    },
    {
      "cell_type": "markdown",
      "metadata": {
        "id": "gFo1ByAJbA0o"
      },
      "source": [
        "<p><a name=\"carr1\"></a></p>\n",
        "\n",
        "## **Carrera**"
      ]
    },
    {
      "cell_type": "code",
      "execution_count": 145,
      "metadata": {
        "id": "hUM3HSM_bBSr"
      },
      "outputs": [],
      "source": [
        "df_jujc=pd.get_dummies(data=df_juj, columns=['career'])\n",
        "df_morc=pd.get_dummies(data=df_mor, columns=['career'])\n"
      ]
    },
    {
      "cell_type": "code",
      "execution_count": null,
      "metadata": {
        "id": "H_hQ7zPxsAc3"
      },
      "outputs": [],
      "source": [
        "corr = df_jujc.corr()\n",
        "corr"
      ]
    },
    {
      "cell_type": "code",
      "execution_count": null,
      "metadata": {
        "id": "j22lh6IqsbM3"
      },
      "outputs": [],
      "source": [
        "corr1= df_morc.corr()\n",
        "corr1"
      ]
    },
    {
      "cell_type": "code",
      "execution_count": null,
      "metadata": {
        "id": "H6tpt4XjxR_W"
      },
      "outputs": [],
      "source": [
        "sns.heatmap(df_juj.corr(), square=True, annot=True)"
      ]
    },
    {
      "cell_type": "code",
      "execution_count": null,
      "metadata": {
        "id": "d2lswajIxgGq"
      },
      "outputs": [],
      "source": [
        "sns.heatmap(df_mor.corr(), square=True, annot=True)"
      ]
    },
    {
      "cell_type": "markdown",
      "metadata": {
        "id": "1X973bm6w15-"
      },
      "source": [
        "Conclusión correlación: Se realizó correlaciones por medio de metodo pearson para variables enteras y correlaciones llevando acabo la funcipon get_dummies para el cambio de variable "
      ]
    },
    {
      "cell_type": "markdown",
      "metadata": {
        "id": "sy0J3AOotDSO"
      },
      "source": [
        "<p><a name=\"con\"></a></p>\n",
        "\n",
        "# **Conclusiones**\n",
        "\n",
        "\n",
        " 1. En base a lo analizado podemos evidenciar que las universidades\n",
        "tienen carerras mas demandas en común y que estas pueden ser un inidicativo de \n",
        "futuras contrataciones de profesores para estas carreras, por otro lado, las carreras que no tienen alta demanda o menor numero de estudiantes poder interrogar cuales son las razones por la queno eligen estas, asi poder identificar que se puede mejorar en el pensum y sea mas atractivo \n",
        "\n",
        "2. También encontramos que las personas entre los 19 y 40 años son las que mas asisten a las universidades, siendo mas alto el porcentaje entre los 22 y 38 años, se podria tomar como acción, hacer encuestas e investigaciones de los jovenes menores de 19 años por sus posibles gustos y los mayores de 38 años la razon por la que no optan por estudiar. \n",
        "\n",
        "3. En cuanto los géneros, se puede evidenciar que ambos generos asisten en igual de proporciones a la universidad, por lo que no se tomaria ningun tipo de acción en esta variable \n",
        "\n",
        "4. La localidad es una variable que las personas suelen tener encuenta a la hora de ingresar a la universidad, por su facil desplazamiento hacia estas, se puede tener algunas acciones como colocar transportes o rutas cerca a las localidades que menos tienen asistencia a las universidades para asi generar mas inscripciones. \n"
      ]
    },
    {
      "cell_type": "code",
      "execution_count": null,
      "metadata": {
        "id": "taZ7YQXCfpDQ"
      },
      "outputs": [],
      "source": [
        "print(\"muchas gracias\")"
      ]
    }
  ],
  "metadata": {
    "colab": {
      "collapsed_sections": [],
      "provenance": []
    },
    "kernelspec": {
      "display_name": "Python 3.8.10 64-bit (microsoft store)",
      "language": "python",
      "name": "python3"
    },
    "language_info": {
      "name": "python",
      "version": "3.8.10"
    },
    "vscode": {
      "interpreter": {
        "hash": "b6da4b68672bf2596e55b0781e2ca6fcde8b8152929bd0e0a261418edd9c2290"
      }
    }
  },
  "nbformat": 4,
  "nbformat_minor": 0
}
